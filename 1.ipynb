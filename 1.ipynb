{
 "cells": [
  {
   "cell_type": "code",
   "execution_count": 37,
   "metadata": {},
   "outputs": [],
   "source": [
    "fname = \"input.txt\"\n",
    "with open(fname) as f:\n",
    "    lines = [line.rstrip('\\n') for line in f]"
   ]
  },
  {
   "cell_type": "markdown",
   "metadata": {},
   "source": [
    "Part 1"
   ]
  },
  {
   "cell_type": "code",
   "execution_count": 49,
   "metadata": {},
   "outputs": [
    {
     "name": "stdout",
     "output_type": "stream",
     "text": [
      "55447\n"
     ]
    }
   ],
   "source": [
    "import regex as re\n",
    "\n",
    "value = 0\n",
    "for line in lines:\n",
    "    nums = re.findall(\"(\\d)\", line)\n",
    "    value += int(nums[0] + nums[-1])\n",
    "\n",
    "print(value)"
   ]
  },
  {
   "cell_type": "markdown",
   "metadata": {},
   "source": [
    "Part 2"
   ]
  },
  {
   "cell_type": "code",
   "execution_count": null,
   "metadata": {},
   "outputs": [],
   "source": [
    "numDict = {\"one\": \"1\",\n",
    "           \"two\": \"2\",\n",
    "           \"three\": \"3\",\n",
    "           \"four\": \"4\",\n",
    "           \"five\": \"5\",\n",
    "           \"six\": \"6\",\n",
    "           \"seven\": \"7\",\n",
    "           \"eight\": \"8\",\n",
    "           \"nine\": \"9\"\n",
    "           }"
   ]
  }
 ],
 "metadata": {
  "kernelspec": {
   "display_name": "Python 3",
   "language": "python",
   "name": "python3"
  },
  "language_info": {
   "codemirror_mode": {
    "name": "ipython",
    "version": 3
   },
   "file_extension": ".py",
   "mimetype": "text/x-python",
   "name": "python",
   "nbconvert_exporter": "python",
   "pygments_lexer": "ipython3",
   "version": "3.11.2"
  }
 },
 "nbformat": 4,
 "nbformat_minor": 2
}
