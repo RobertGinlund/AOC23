{
 "cells": [
  {
   "cell_type": "code",
   "execution_count": 1,
   "metadata": {},
   "outputs": [],
   "source": [
    "fname = \"input.txt\"\n",
    "with open(fname) as f:\n",
    "    lines = [line.rstrip('\\n') for line in f]"
   ]
  },
  {
   "cell_type": "markdown",
   "metadata": {},
   "source": [
    "Part 1"
   ]
  },
  {
   "cell_type": "code",
   "execution_count": 2,
   "metadata": {},
   "outputs": [
    {
     "name": "stdout",
     "output_type": "stream",
     "text": [
      "55447\n"
     ]
    }
   ],
   "source": [
    "import regex as re\n",
    "\n",
    "totSum = 0\n",
    "\n",
    "for line in lines:\n",
    "    nums = re.findall(\"(\\d)\", line)\n",
    "    totSum += int(nums[0] + nums[-1])\n",
    "\n",
    "print(totSum)"
   ]
  },
  {
   "cell_type": "markdown",
   "metadata": {},
   "source": [
    "Part 2"
   ]
  },
  {
   "cell_type": "code",
   "execution_count": 3,
   "metadata": {},
   "outputs": [
    {
     "name": "stdout",
     "output_type": "stream",
     "text": [
      "54706\n"
     ]
    }
   ],
   "source": [
    "numDict = {\"one\": \"o1e\",\n",
    "           \"two\": \"t2o\",\n",
    "           \"three\": \"t3e\",\n",
    "           \"four\": \"4\",\n",
    "           \"five\": \"5e\",\n",
    "           \"six\": \"6\",\n",
    "           \"seven\": \"7n\",\n",
    "           \"eight\": \"e8t\",\n",
    "           \"nine\": \"n9e\",\n",
    "           }\n",
    "\n",
    "totSum = 0\n",
    "\n",
    "for line in lines:\n",
    "    for text, num in numDict.items():\n",
    "        line = line.replace(text, num)\n",
    "    \n",
    "    nums = re.findall(\"(\\d)\", line)\n",
    "    totSum += int(nums[0] + nums[-1])\n",
    "\n",
    "print(totSum)"
   ]
  },
  {
   "cell_type": "markdown",
   "metadata": {},
   "source": [
    "I guess the overlaps could have been done with more regex..."
   ]
  }
 ],
 "metadata": {
  "kernelspec": {
   "display_name": "Python 3",
   "language": "python",
   "name": "python3"
  },
  "language_info": {
   "codemirror_mode": {
    "name": "ipython",
    "version": 3
   },
   "file_extension": ".py",
   "mimetype": "text/x-python",
   "name": "python",
   "nbconvert_exporter": "python",
   "pygments_lexer": "ipython3",
   "version": "3.11.2"
  }
 },
 "nbformat": 4,
 "nbformat_minor": 2
}
