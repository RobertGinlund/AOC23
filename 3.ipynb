{
 "cells": [
  {
   "cell_type": "code",
   "execution_count": 1,
   "metadata": {},
   "outputs": [],
   "source": [
    "fname = \"input.txt\"\n",
    "with open(fname) as f:\n",
    "    lines = [[x for x in line.rstrip('\\n')] for line in f]"
   ]
  },
  {
   "cell_type": "code",
   "execution_count": 2,
   "metadata": {},
   "outputs": [],
   "source": [
    "import numpy as np\n",
    "import matplotlib.pyplot as plt\n",
    "from scipy import ndimage\n",
    "\n",
    "arr = np.pad(np.array(lines), 1, constant_values=\".\")\n",
    "symbols = np.setdiff1d(np.unique(arr), [\"0\", \"1\", \"2\", \"3\", \"4\", \"5\", \"6\", \"7\", \"8\", \"9\", \".\"])"
   ]
  },
  {
   "cell_type": "markdown",
   "metadata": {},
   "source": [
    "Part 1"
   ]
  },
  {
   "cell_type": "code",
   "execution_count": 3,
   "metadata": {},
   "outputs": [],
   "source": [
    "struct1 = ndimage.generate_binary_structure(2, 2)\n",
    "adjecentToSymbol = np.isin(arr, symbols)\n",
    "adjecentToSymbol = ndimage.binary_dilation(adjecentToSymbol, structure=struct1).astype(adjecentToSymbol.dtype)\n",
    "\n",
    "isNumber = np.char.isnumeric(arr)\n",
    "s = [[0, 0, 0], [1,1,1], [0,0,0]]\n",
    "labeledNumbers, numGroups = ndimage.label(isNumber, s)"
   ]
  },
  {
   "cell_type": "code",
   "execution_count": 4,
   "metadata": {},
   "outputs": [
    {
     "name": "stdout",
     "output_type": "stream",
     "text": [
      "535235\n"
     ]
    }
   ],
   "source": [
    "totSum = 0\n",
    "for group in range(1,numGroups):\n",
    "    coords = np.dstack(np.where(labeledNumbers == group))[0].T\n",
    "    adjecent = any(adjecentToSymbol[coords[0,0],coords[1,0]:coords[1,-1]+1])\n",
    "    number = int(\"\".join(arr[coords[0,0], coords[1,0]:coords[1,-1]+1]))\n",
    "    if adjecent:\n",
    "        totSum += number\n",
    "\n",
    "print(totSum)\n"
   ]
  },
  {
   "cell_type": "markdown",
   "metadata": {},
   "source": [
    "Part 2"
   ]
  },
  {
   "cell_type": "code",
   "execution_count": 5,
   "metadata": {},
   "outputs": [],
   "source": [
    "gearorNum = np.isin(arr, [\"0\", \"1\", \"2\", \"3\", \"4\", \"5\", \"6\", \"7\", \"8\", \"9\", \"*\"])\n",
    "s = [[1,1,1], [1,1,1], [1,1,1]]\n",
    "labeledGroups, numGroups = ndimage.label(gearorNum, s)"
   ]
  },
  {
   "cell_type": "code",
   "execution_count": 6,
   "metadata": {},
   "outputs": [
    {
     "name": "stdout",
     "output_type": "stream",
     "text": [
      "79844424\n"
     ]
    }
   ],
   "source": [
    "totSum = 0\n",
    "\n",
    "for group in range(1, numGroups):\n",
    "    x, y = np.where(labeledGroups == group)\n",
    "    subArr = arr[min(x):max(x)+1, min(y):max(y)+1]\n",
    "    adjecentToGear = np.isin(subArr, \"*\")\n",
    "    adjecentToGear = ndimage.binary_dilation(adjecentToGear, structure=struct1).astype(adjecentToGear.dtype)\n",
    "    isNumber = np.char.isnumeric(subArr)\n",
    "    s = [[0, 0, 0], [1,1,1], [0,0,0]]\n",
    "    labeledNumbers, numSubGroups = ndimage.label(isNumber, s)\n",
    "\n",
    "    prod = 1\n",
    "    g = 0\n",
    "\n",
    "    if numSubGroups > 1:\n",
    "        for subGroup in range(1,numSubGroups+1):\n",
    "            coords = np.dstack(np.where(labeledNumbers == subGroup))[0].T\n",
    "            adjecent = any(adjecentToGear[coords[0,0],coords[1,0]:coords[1,-1]+1])\n",
    "            number = int(\"\".join(subArr[coords[0,0], coords[1,0]:coords[1,-1]+1]))\n",
    "            if adjecent:\n",
    "                prod *= number\n",
    "                g += 1\n",
    "    if g==2:\n",
    "        totSum += prod\n",
    "\n",
    "print(totSum)\n",
    "        "
   ]
  },
  {
   "cell_type": "code",
   "execution_count": null,
   "metadata": {},
   "outputs": [],
   "source": []
  }
 ],
 "metadata": {
  "kernelspec": {
   "display_name": "Python 3",
   "language": "python",
   "name": "python3"
  },
  "language_info": {
   "codemirror_mode": {
    "name": "ipython",
    "version": 3
   },
   "file_extension": ".py",
   "mimetype": "text/x-python",
   "name": "python",
   "nbconvert_exporter": "python",
   "pygments_lexer": "ipython3",
   "version": "3.11.2"
  }
 },
 "nbformat": 4,
 "nbformat_minor": 2
}
