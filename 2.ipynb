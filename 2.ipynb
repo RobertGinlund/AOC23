{
 "cells": [
  {
   "cell_type": "code",
   "execution_count": 77,
   "metadata": {},
   "outputs": [],
   "source": [
    "fname = \"input.txt\"\n",
    "with open(fname) as f:\n",
    "    lines = [line.rstrip('\\n') for line in f]"
   ]
  },
  {
   "cell_type": "code",
   "execution_count": 78,
   "metadata": {},
   "outputs": [],
   "source": [
    "maxCubes = {\"red\": 12, \"green\": 13, \"blue\": 14}"
   ]
  },
  {
   "cell_type": "markdown",
   "metadata": {},
   "source": [
    "Part 1"
   ]
  },
  {
   "cell_type": "code",
   "execution_count": 79,
   "metadata": {},
   "outputs": [],
   "source": [
    "def checkGame(gameline):\n",
    "    gid, game_data = gameline.split(\":\")\n",
    "    id = int(gid.split()[1])\n",
    "    draws = game_data.split(\";\")\n",
    "    for draw in draws:\n",
    "        groups = draw.split(\",\")\n",
    "        for group in groups:\n",
    "            num, color = group.split()\n",
    "            if int(num) > maxCubes[color]:\n",
    "                return 0\n",
    "    return id"
   ]
  },
  {
   "cell_type": "code",
   "execution_count": 80,
   "metadata": {},
   "outputs": [
    {
     "name": "stdout",
     "output_type": "stream",
     "text": [
      "2449\n"
     ]
    }
   ],
   "source": [
    "idSum = 0\n",
    "for line in lines:\n",
    "    idSum += checkGame(line)\n",
    "print(idSum)"
   ]
  },
  {
   "cell_type": "markdown",
   "metadata": {},
   "source": [
    "Part 2"
   ]
  },
  {
   "cell_type": "code",
   "execution_count": 81,
   "metadata": {},
   "outputs": [],
   "source": [
    "def checkAgain(gameline):\n",
    "    minCubes = {\"red\": 0, \"green\": 0, \"blue\": 0}\n",
    "    gid, game_data = gameline.split(\":\")\n",
    "    id = int(gid.split()[1])\n",
    "    draws = game_data.split(\";\")\n",
    "    for draw in draws:\n",
    "        groups = draw.split(\",\")\n",
    "        for group in groups:\n",
    "            num, color = group.split()\n",
    "\n",
    "            if int(num) > minCubes[color]:\n",
    "                minCubes[color] = int(num)\n",
    "\n",
    "    return minCubes[\"red\"] * minCubes[\"green\"] * minCubes[\"blue\"]"
   ]
  },
  {
   "cell_type": "code",
   "execution_count": 82,
   "metadata": {},
   "outputs": [
    {
     "name": "stdout",
     "output_type": "stream",
     "text": [
      "63981\n"
     ]
    }
   ],
   "source": [
    "sumOfMinProd = 0\n",
    "for line in lines:\n",
    "    sumOfMinProd += checkAgain(line)\n",
    "print(sumOfMinProd)"
   ]
  }
 ],
 "metadata": {
  "kernelspec": {
   "display_name": "Python 3",
   "language": "python",
   "name": "python3"
  },
  "language_info": {
   "codemirror_mode": {
    "name": "ipython",
    "version": 3
   },
   "file_extension": ".py",
   "mimetype": "text/x-python",
   "name": "python",
   "nbconvert_exporter": "python",
   "pygments_lexer": "ipython3",
   "version": "3.11.2"
  }
 },
 "nbformat": 4,
 "nbformat_minor": 2
}
