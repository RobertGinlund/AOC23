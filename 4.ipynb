{
 "cells": [
  {
   "cell_type": "code",
   "execution_count": 31,
   "metadata": {},
   "outputs": [],
   "source": [
    "fname = \"input.txt\"\n",
    "with open(fname) as f:\n",
    "    lines = f.read().splitlines()"
   ]
  },
  {
   "cell_type": "markdown",
   "metadata": {},
   "source": [
    "Part 1"
   ]
  },
  {
   "cell_type": "code",
   "execution_count": 69,
   "metadata": {},
   "outputs": [],
   "source": [
    "from math import factorial\n",
    "\n",
    "def calcPoints(card):\n",
    "    numbers = card.split(\":\")[1]\n",
    "    winning, yourNums = numbers.split(\"|\")\n",
    "    winning = [int(x) for x in winning.split()]\n",
    "    yourNums = [int(x) for x in yourNums.split()]\n",
    "\n",
    "    return round(2**(sum(num in winning for num in yourNums)-1))\n"
   ]
  },
  {
   "cell_type": "code",
   "execution_count": 70,
   "metadata": {},
   "outputs": [
    {
     "name": "stdout",
     "output_type": "stream",
     "text": [
      "25651\n"
     ]
    }
   ],
   "source": [
    "totSum = 0\n",
    "for line in lines:\n",
    "    totSum += calcPoints(line)\n",
    "\n",
    "print(totSum)"
   ]
  },
  {
   "cell_type": "markdown",
   "metadata": {},
   "source": [
    "Part 2"
   ]
  },
  {
   "cell_type": "code",
   "execution_count": 94,
   "metadata": {},
   "outputs": [],
   "source": [
    "def numMatches(card):\n",
    "    numbers = card.split(\":\")[1]\n",
    "    winning, yourNums = numbers.split(\"|\")\n",
    "    winning = [int(x) for x in winning.split()]\n",
    "    yourNums = [int(x) for x in yourNums.split()]\n",
    "\n",
    "    return sum(num in winning for num in yourNums)"
   ]
  },
  {
   "cell_type": "code",
   "execution_count": 106,
   "metadata": {},
   "outputs": [
    {
     "name": "stdout",
     "output_type": "stream",
     "text": [
      "19499881\n"
     ]
    }
   ],
   "source": [
    "cards = {i:1 for i in range(len(lines))}\n",
    "\n",
    "for i in range(len(lines)):\n",
    "    numCards = cards[i]\n",
    "    newCards = numMatches(lines[i])\n",
    "    for j in range(newCards):\n",
    "        cards[i+j+1] += numCards\n",
    " \n",
    "print(sum(cards.values()))"
   ]
  },
  {
   "cell_type": "code",
   "execution_count": null,
   "metadata": {},
   "outputs": [],
   "source": []
  }
 ],
 "metadata": {
  "kernelspec": {
   "display_name": "Python 3",
   "language": "python",
   "name": "python3"
  },
  "language_info": {
   "codemirror_mode": {
    "name": "ipython",
    "version": 3
   },
   "file_extension": ".py",
   "mimetype": "text/x-python",
   "name": "python",
   "nbconvert_exporter": "python",
   "pygments_lexer": "ipython3",
   "version": "3.11.2"
  }
 },
 "nbformat": 4,
 "nbformat_minor": 2
}
